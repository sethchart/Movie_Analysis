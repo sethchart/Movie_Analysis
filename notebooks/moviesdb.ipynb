{
 "cells": [
  {
   "cell_type": "code",
   "execution_count": 1,
   "metadata": {},
   "outputs": [],
   "source": [
    "import os\n",
    "import csv\n",
    "import sqlite3\n",
    "import gzip\n",
    "import numpy as np\n",
    "import pandas as pd\n",
    "from datetime import datetime"
   ]
  },
  {
   "cell_type": "code",
   "execution_count": 2,
   "metadata": {},
   "outputs": [],
   "source": [
    "def get_connection(data_path):\n",
    "    db_path = os.path.join(data_path, 'movies.sqlite')\n",
    "    conn = sqlite3.connect(db_path)\n",
    "    return conn"
   ]
  },
  {
   "cell_type": "code",
   "execution_count": 3,
   "metadata": {},
   "outputs": [],
   "source": [
    "def get_cursor(conn):\n",
    "    cursor = conn.cursor()\n",
    "    return cursor"
   ]
  },
  {
   "cell_type": "code",
   "execution_count": 4,
   "metadata": {},
   "outputs": [],
   "source": [
    "input_data_path = '/home/schart/Flatiron/DataScience/Phase1/Project/Movie_Analysis/zippedData'\n",
    "data_path = '/home/schart/Flatiron/DataScience/Phase1/Project/Movie_Analysis/data/'"
   ]
  },
  {
   "cell_type": "code",
   "execution_count": 5,
   "metadata": {},
   "outputs": [],
   "source": [
    "conn = get_connection(data_path=data_path)\n",
    "cur = get_cursor(conn)"
   ]
  },
  {
   "cell_type": "code",
   "execution_count": 6,
   "metadata": {},
   "outputs": [],
   "source": [
    "def create_table(table_name, columns_string, cur):\n",
    "    drop_query = f\"\"\"\n",
    "    DROP TABLE IF EXISTS {table_name};\n",
    "    \"\"\"\n",
    "    create_query = f\"\"\"\n",
    "    CREATE TABLE {table_name} {columns_string};\n",
    "    \"\"\"\n",
    "    cur.execute(drop_query)\n",
    "    cur.execute(create_query)"
   ]
  },
  {
   "cell_type": "code",
   "execution_count": 7,
   "metadata": {},
   "outputs": [],
   "source": [
    "def create_table_titles(cur):\n",
    "    titles_columns_string = \"\"\"(\n",
    "        tconst TEXT PRIMARY KEY,\n",
    "        primary_title TEXT,\n",
    "        start_year INTEGER\n",
    "        )\n",
    "    \"\"\"\n",
    "    create_table(table_name='titles', columns_string=titles_columns_string, cur=cur)"
   ]
  },
  {
   "cell_type": "code",
   "execution_count": 8,
   "metadata": {},
   "outputs": [],
   "source": [
    "def create_table_runtimes(cur):\n",
    "    runtimes_columns_string = \"\"\"(\n",
    "        tconst TEXT PRIMARY KEY,\n",
    "        runtime_minutes INTEGER,\n",
    "        FOREIGN KEY(tconst) REFERENCES titles(tconst)\n",
    "    )\n",
    "    \"\"\"\n",
    "    create_table(table_name='runtimes', columns_string=runtimes_columns_string, cur=cur)"
   ]
  },
  {
   "cell_type": "code",
   "execution_count": 9,
   "metadata": {},
   "outputs": [],
   "source": [
    "def create_table_genres(cur):\n",
    "    genres_columns_string = \"\"\"(\n",
    "        tconst TEXT PRIMARY KEY,\n",
    "        Action INTEGER DEFAULT 0,\n",
    "        Adult INTEGER DEFAULT 0,\n",
    "        Adventure INTEGER DEFAULT 0,\n",
    "        Animation INTEGER DEFAULT 0,\n",
    "        Biography INTEGER DEFAULT 0,\n",
    "        Comedy INTEGER DEFAULT 0,\n",
    "        Crime INTEGER DEFAULT 0,\n",
    "        Documentary INTEGER DEFAULT 0,\n",
    "        Drama INTEGER DEFAULT 0,\n",
    "        Family INTEGER DEFAULT 0,\n",
    "        Fantasy INTEGER DEFAULT 0,\n",
    "        Game_Show INTEGER DEFAULT 0,\n",
    "        History INTEGER DEFAULT 0,\n",
    "        Horror INTEGER DEFAULT 0,\n",
    "        Music INTEGER DEFAULT 0,\n",
    "        Musical INTEGER DEFAULT 0,\n",
    "        Mystery INTEGER DEFAULT 0,\n",
    "        News INTEGER DEFAULT 0,\n",
    "        Reality_TV INTEGER DEFAULT 0,\n",
    "        Romance INTEGER DEFAULT 0,\n",
    "        Sci_Fi INTEGER DEFAULT 0,\n",
    "        Short INTEGER DEFAULT 0,\n",
    "        Sport INTEGER DEFAULT 0,\n",
    "        Talk_Show INTEGER DEFAULT 0,\n",
    "        Thriller INTEGER DEFAULT 0,\n",
    "        War INTEGER DEFAULT 0,\n",
    "        Western INTEGER DEFAULT 0,\n",
    "        FOREIGN KEY(tconst) REFERENCES titles(tconst)\n",
    "    )\n",
    "    \"\"\"\n",
    "    create_table(table_name='genres', columns_string=genres_columns_string, cur=cur)"
   ]
  },
  {
   "cell_type": "code",
   "execution_count": 10,
   "metadata": {},
   "outputs": [],
   "source": [
    "def write_row(table_name, row_dict, cur):\n",
    "    write_query = f\"\"\"\n",
    "    INSERT INTO {table_name} ({', '.join(row_dict.keys())})\n",
    "    VALUES {tuple(row_dict.values())};\n",
    "    \"\"\"\n",
    "    cur.execute(write_query)"
   ]
  },
  {
   "cell_type": "code",
   "execution_count": 11,
   "metadata": {},
   "outputs": [],
   "source": [
    "def make_row_dict(row, key_list):\n",
    "    row_dict = dict()\n",
    "    for key in key_list:\n",
    "        row_dict[key] = row[key]\n",
    "    return row_dict"
   ]
  },
  {
   "cell_type": "code",
   "execution_count": 12,
   "metadata": {},
   "outputs": [],
   "source": [
    "def get_file_path(input_data_path, file_name):\n",
    "    file_path = os.path.join(input_data_path, file_name)\n",
    "    return file_path"
   ]
  },
  {
   "cell_type": "code",
   "execution_count": 13,
   "metadata": {},
   "outputs": [],
   "source": [
    "def write_row_title(row, cur):\n",
    "        title_row_list = ['tconst', 'primary_title', 'start_year']\n",
    "        title_row_dict = make_row_dict(row=row, key_list=title_row_list)\n",
    "        title_row_dict['start_year'] = int(title_row_dict['start_year'])\n",
    "        write_row(table_name='titles', row_dict=title_row_dict, cur=cur)"
   ]
  },
  {
   "cell_type": "code",
   "execution_count": 14,
   "metadata": {},
   "outputs": [],
   "source": [
    "def write_row_runtime(row, cur):\n",
    "    runtime_row_list = ['tconst', 'runtime_minutes']\n",
    "    runtime_row_dict = make_row_dict(row, runtime_row_list)\n",
    "    if len(runtime_row_dict['runtime_minutes']) > 0:\n",
    "        runtime_row_dict['runtime_minutes'] = int(runtime_row_dict['runtime_minutes'])\n",
    "        write_row(table_name='runtimes', row_dict=runtime_row_dict, cur = cur)"
   ]
  },
  {
   "cell_type": "code",
   "execution_count": 15,
   "metadata": {},
   "outputs": [],
   "source": [
    "def write_row_genre(row, cur):\n",
    "    genres_string = row['genres']\n",
    "    if len(genres_string) > 0:\n",
    "        genres_list = genres_string.split(',')\n",
    "        genres_list = [genre.replace('-','_') for genre in genres_list]\n",
    "        genre_row_dict = dict()\n",
    "        genre_row_dict['tconst'] = row['tconst']\n",
    "        for genre in genres_list:\n",
    "            genre_row_dict[genre] = 1\n",
    "        write_row(table_name='genres', row_dict=genre_row_dict, cur=cur)"
   ]
  },
  {
   "cell_type": "code",
   "execution_count": 35,
   "metadata": {},
   "outputs": [],
   "source": [
    "def read_title_basics(cur):\n",
    "    file_path = get_file_path(input_data_path=input_data_path, file_name='imdb.title.basics.csv.gz')\n",
    "    create_table_titles(cur=cur)\n",
    "    create_table_runtimes(cur=cur)\n",
    "    create_table_genres(cur=cur)\n",
    "    with gzip.open(file_path, mode='rt') as f:\n",
    "        reader = csv.DictReader(f)\n",
    "        for row in reader:\n",
    "            write_row_title(row=row, cur=cur)\n",
    "            write_row_runtime(row=row, cur=cur)\n",
    "            write_row_genre(row=row, cur=cur)"
   ]
  },
  {
   "cell_type": "code",
   "execution_count": 36,
   "metadata": {},
   "outputs": [],
   "source": [
    "def create_table_ratings(cur):\n",
    "    ratings_column_string =\"\"\"(\n",
    "        tconst TEXT PRIMARY KEY,\n",
    "        averagerating REAL,\n",
    "        numvotes INTEGER,\n",
    "        FOREIGN KEY(tconst) REFERENCES titles(tconst)\n",
    "    )\n",
    "    \"\"\"\n",
    "    create_table(table_name='ratings', columns_string=ratings_column_string, cur=cur)"
   ]
  },
  {
   "cell_type": "code",
   "execution_count": 37,
   "metadata": {},
   "outputs": [],
   "source": [
    "def write_row_rating(row, cur):\n",
    "    rating_row_list = ['tconst', 'averagerating', 'numvotes']\n",
    "    rating_row_dict = make_row_dict(row=row, key_list=rating_row_list)\n",
    "    rating_row_dict['averagerating'] = float(rating_row_dict['averagerating'])\n",
    "    rating_row_dict['numvotes'] = int(rating_row_dict['numvotes'])\n",
    "    write_row(table_name='ratings', row_dict=rating_row_dict, cur=cur)"
   ]
  },
  {
   "cell_type": "code",
   "execution_count": 38,
   "metadata": {},
   "outputs": [],
   "source": [
    "def read_title_ratings(cur):\n",
    "    file_path = get_file_path(input_data_path=input_data_path, file_name='imdb.title.ratings.csv.gz')\n",
    "    create_table_ratings(cur=cur)\n",
    "    with gzip.open(file_path, mode='rt') as f:\n",
    "        reader = csv.DictReader(f)\n",
    "        for row in reader:\n",
    "            write_row_rating(row=row, cur=cur)"
   ]
  },
  {
   "cell_type": "code",
   "execution_count": 39,
   "metadata": {},
   "outputs": [],
   "source": [
    "def create_table_budgets(cur):\n",
    "    budgets_column_string = \"\"\"(\n",
    "        id INTEGER PRIMARY KEY,\n",
    "        primary_title TEXT,\n",
    "        start_year INTEGER,\n",
    "        release_date TEXT,\n",
    "        production_budget INTEGER,\n",
    "        domestic_gross INTEGER,\n",
    "        worldwide_gross INTEGER,\n",
    "        FOREIGN KEY (primary_title, start_year) REFERENCES titles(primary_title, start_year)\n",
    "    )\n",
    "    \"\"\"\n",
    "    create_table(table_name='budgets', columns_string=budgets_column_string, cur=cur)"
   ]
  },
  {
   "cell_type": "code",
   "execution_count": 40,
   "metadata": {},
   "outputs": [],
   "source": [
    "def write_row_budget(row, cur):\n",
    "    budget_row_list = ['release_date',\n",
    "                       'production_budget',\n",
    "                       'domestic_gross',\n",
    "                       'worldwide_gross'\n",
    "                      ]\n",
    "    budget_row_dict = make_row_dict(row=row, key_list=budget_row_list)\n",
    "    budget_row_dict['production_budget'] = int(budget_row_dict['production_budget'].replace('$','').replace(',',''))\n",
    "    budget_row_dict['domestic_gross'] = int(budget_row_dict['domestic_gross'].replace('$','').replace(',',''))\n",
    "    budget_row_dict['worldwide_gross'] = int(budget_row_dict['worldwide_gross'].replace('$','').replace(',',''))\n",
    "    budget_row_dict['primary_title'] = row['movie']\n",
    "    budget_row_dict['start_year'] = datetime.strptime(row['release_date'], '%b %d, %Y').year\n",
    "    write_row(table_name='budgets', row_dict=budget_row_dict, cur=cur)"
   ]
  },
  {
   "cell_type": "code",
   "execution_count": 43,
   "metadata": {},
   "outputs": [],
   "source": [
    "def read_budgets(cur):\n",
    "    file_path = get_file_path(input_data_path=input_data_path, file_name='tn.movie_budgets.csv.gz')\n",
    "    create_table_budgets(cur=cur)\n",
    "    with gzip.open(file_path, mode='rt') as f:\n",
    "        reader = csv.DictReader(f)\n",
    "        for row in reader:\n",
    "            write_row_budget(row=row, cur=cur)"
   ]
  },
  {
   "cell_type": "code",
   "execution_count": 44,
   "metadata": {},
   "outputs": [],
   "source": [
    "read_title_basics(cur)\n",
    "read_title_ratings(cur)\n",
    "read_budgets(cur)"
   ]
  },
  {
   "cell_type": "code",
   "execution_count": 45,
   "metadata": {},
   "outputs": [],
   "source": [
    "cur.close()"
   ]
  },
  {
   "cell_type": "code",
   "execution_count": 46,
   "metadata": {},
   "outputs": [],
   "source": [
    "conn.close()"
   ]
  },
  {
   "cell_type": "code",
   "execution_count": null,
   "metadata": {},
   "outputs": [],
   "source": []
  }
 ],
 "metadata": {
  "kernelspec": {
   "display_name": "flatiron",
   "language": "python",
   "name": "flatiron"
  },
  "language_info": {
   "codemirror_mode": {
    "name": "ipython",
    "version": 3
   },
   "file_extension": ".py",
   "mimetype": "text/x-python",
   "name": "python",
   "nbconvert_exporter": "python",
   "pygments_lexer": "ipython3",
   "version": "3.6.9"
  }
 },
 "nbformat": 4,
 "nbformat_minor": 4
}
