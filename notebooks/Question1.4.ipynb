{
 "cells": [
  {
   "cell_type": "markdown",
   "metadata": {},
   "source": [
    "# Question: How is revenue distributed with respect to runtime?\n",
    "We would like to know how median inflation adjusted revenue is distributed with respect to runtime."
   ]
  },
  {
   "cell_type": "markdown",
   "metadata": {},
   "source": [
    "## Load the data\n",
    "Below we import the necessary libraries and connect to the database."
   ]
  },
  {
   "cell_type": "code",
   "execution_count": 1,
   "metadata": {},
   "outputs": [],
   "source": [
    "import pandas as pd\n",
    "import numpy as np\n",
    "import cpi\n",
    "import seaborn as sns\n",
    "import matplotlib.pyplot as plt\n",
    "from moviesdb import moviesdb as mdb"
   ]
  },
  {
   "cell_type": "markdown",
   "metadata": {},
   "source": [
    "### Update the consumer price index library"
   ]
  },
  {
   "cell_type": "code",
   "execution_count": 2,
   "metadata": {},
   "outputs": [],
   "source": [
    "#cpi.update()"
   ]
  },
  {
   "cell_type": "markdown",
   "metadata": {},
   "source": [
    "### Connect to the database"
   ]
  },
  {
   "cell_type": "code",
   "execution_count": 2,
   "metadata": {},
   "outputs": [],
   "source": [
    "db = mdb.MoviesDb()"
   ]
  },
  {
   "cell_type": "code",
   "execution_count": 3,
   "metadata": {},
   "outputs": [
    {
     "name": "stdout",
     "output_type": "stream",
     "text": [
      "\n",
      "=== titles ===\n",
      "\n",
      "tconst\n",
      "primary_title\n",
      "start_year\n",
      "\n",
      "=== runtimes ===\n",
      "\n",
      "tconst\n",
      "runtime_minutes\n",
      "\n",
      "=== genres ===\n",
      "\n",
      "tconst\n",
      "Action\n",
      "Adult\n",
      "Adventure\n",
      "Animation\n",
      "Biography\n",
      "Comedy\n",
      "Crime\n",
      "Documentary\n",
      "Drama\n",
      "Family\n",
      "Fantasy\n",
      "Game_Show\n",
      "History\n",
      "Horror\n",
      "Music\n",
      "Musical\n",
      "Mystery\n",
      "News\n",
      "Reality_TV\n",
      "Romance\n",
      "Sci_Fi\n",
      "Short\n",
      "Sport\n",
      "Talk_Show\n",
      "Thriller\n",
      "War\n",
      "Western\n",
      "\n",
      "=== ratings ===\n",
      "\n",
      "tconst\n",
      "averagerating\n",
      "numvotes\n",
      "\n",
      "=== budgets ===\n",
      "\n",
      "id\n",
      "primary_title\n",
      "start_year\n",
      "release_date\n",
      "production_budget\n",
      "domestic_gross\n",
      "worldwide_gross\n",
      "\n",
      "=== names ===\n",
      "\n",
      "nconst\n",
      "primary_name\n",
      "\n",
      "=== principals ===\n",
      "\n",
      "tconst\n",
      "ordering\n",
      "nconst\n",
      "category\n"
     ]
    }
   ],
   "source": [
    "for table in db.list_tables():\n",
    "    print(f'\\n=== {table} ===\\n')\n",
    "    for column in db.list_column_names(table):\n",
    "        print(column)"
   ]
  },
  {
   "cell_type": "code",
   "execution_count": 5,
   "metadata": {},
   "outputs": [],
   "source": [
    "query = \"\"\"\n",
    "SELECT t.start_year, ru.runtime_minutes, b.production_budget, b.domestic_gross, b.worldwide_gross\n",
    "FROM budgets AS b\n",
    "JOIN titles AS t\n",
    "USING('primary_title', 'start_year')\n",
    "JOIN runtimes as ru\n",
    "USING('tconst')\n",
    "\"\"\"\n",
    "df = db.load_query_as_df(query)"
   ]
  },
  {
   "cell_type": "markdown",
   "metadata": {},
   "source": [
    "## Question specific data cleaning\n",
    "To ensure that consumer price index data is available, we restrict our analysis to movies released before 2019."
   ]
  },
  {
   "cell_type": "code",
   "execution_count": 6,
   "metadata": {},
   "outputs": [],
   "source": [
    "df = df.query('start_year <= 2018')"
   ]
  },
  {
   "cell_type": "markdown",
   "metadata": {},
   "source": [
    "## Computations\n",
    "Below we inflate production budgets to 2018 United States Dollars."
   ]
  },
  {
   "cell_type": "code",
   "execution_count": 10,
   "metadata": {},
   "outputs": [],
   "source": [
    "def inflate_to_2018(x):\n",
    "    inflated = cpi.inflate(value=x[1], year_or_month=int(x[0]), to=2018)\n",
    "    return inflated"
   ]
  },
  {
   "cell_type": "code",
   "execution_count": 30,
   "metadata": {},
   "outputs": [],
   "source": [
    "df_adjusted = pd.DataFrame()\n",
    "df_adjusted['runtime_minutes'] = df['runtime_minutes']\n",
    "df_adjusted['adjusted_budget'] = df[['start_year','production_budget']].apply(inflate_to_2018, axis=1)\n",
    "df_adjusted['adjusted_worldwide_gross'] = df[['start_year','worldwide_gross']].apply(inflate_to_2018, axis=1)\n",
    "df_adjusted['adjusted_domestic_gross'] = df[['start_year','domestic_gross']].apply(inflate_to_2018, axis=1)\n",
    "df_adjusted['worldwide_revenue'] = df_adjusted['adjusted_worldwide_gross'] - df_adjusted['adjusted_budget']\n",
    "df_adjusted['domestic_revenue']  = df_adjusted['adjusted_domestic_gross'] - df_adjusted['adjusted_budget']"
   ]
  },
  {
   "cell_type": "markdown",
   "metadata": {},
   "source": [
    "Below we aggregate the median values of our financial variables with respect to runtime."
   ]
  },
  {
   "cell_type": "code",
   "execution_count": 31,
   "metadata": {},
   "outputs": [],
   "source": [
    "df_agg = df_adjusted.groupby(by='runtime_minutes').agg('median').reset_index()"
   ]
  },
  {
   "cell_type": "markdown",
   "metadata": {},
   "source": [
    "Below we compute rolling averages of our financial variables with a window of ten minutes. This serves to smooth the minute-by-minute variation in the data. "
   ]
  },
  {
   "cell_type": "code",
   "execution_count": 15,
   "metadata": {},
   "outputs": [],
   "source": [
    "df_smoothed = df_agg.rolling(on= 'runtime_minutes', window=10).sum()"
   ]
  },
  {
   "cell_type": "markdown",
   "metadata": {},
   "source": [
    "## Data visualization\n",
    "Below we produce a regression plot of the median inflation adjusted production budget in 2018 USD. "
   ]
  },
  {
   "cell_type": "code",
   "execution_count": 46,
   "metadata": {},
   "outputs": [
    {
     "data": {
      "text/plain": [
       "<Figure size 576x396 with 0 Axes>"
      ]
     },
     "metadata": {},
     "output_type": "display_data"
    },
    {
     "data": {
      "image/png": "[encoded data removed]",
      "text/plain": [
       "<Figure size 864x576 with 1 Axes>"
      ]
     },
     "metadata": {},
     "output_type": "display_data"
    }
   ],
   "source": [
    "plt.figure()\n",
    "plt.style.use('seaborn')\n",
    "sns.set_context('talk')\n",
    "df_smoothed.plot.area(x='runtime_minutes', \n",
    "                      y='worldwide_revenue', \n",
    "                      figsize=(12,8),\n",
    "                      xlabel = 'Runtime in Minutes', \n",
    "                      ylabel = 'Median Worldwide Revenue (USD 2018)', \n",
    "                      title = 'Median Worldwide Revenue by Runtime (Smoothed)',\n",
    "                      legend = None,\n",
    "                \n",
    "                     );\n",
    "plt.savefig('../images/revenue_by_runtime.png', bbox_inches='tight');"
   ]
  },
  {
   "cell_type": "markdown",
   "metadata": {},
   "source": [
    "# Conclusion\n",
    "We see that inflation adjusted median revenue peaks near 151 minutes. "
   ]
  },
  {
   "cell_type": "code",
   "execution_count": 47,
   "metadata": {},
   "outputs": [],
   "source": [
    "argmax = df_smoothed['runtime_minutes'][df_smoothed['worldwide_revenue'].idxmax()]"
   ]
  },
  {
   "cell_type": "code",
   "execution_count": 48,
   "metadata": {},
   "outputs": [
    {
     "name": "stdout",
     "output_type": "stream",
     "text": [
      "Worldwide revenue is maximized at a runtime of around 151 minutes.\n"
     ]
    }
   ],
   "source": [
    "print(f'Worldwide revenue is maximized at a runtime of around {argmax} minutes.')"
   ]
  }
 ],
 "metadata": {
  "kernelspec": {
   "display_name": "flatiron",
   "language": "python",
   "name": "flatiron"
  },
  "language_info": {
   "codemirror_mode": {
    "name": "ipython",
    "version": 3
   },
   "file_extension": ".py",
   "mimetype": "text/x-python",
   "name": "python",
   "nbconvert_exporter": "python",
   "pygments_lexer": "ipython3",
   "version": "3.6.9"
  }
 },
 "nbformat": 4,
 "nbformat_minor": 4
}
