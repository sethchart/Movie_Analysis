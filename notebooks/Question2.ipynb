{
 "cells": [
  {
   "cell_type": "markdown",
   "metadata": {},
   "source": [
    "# Question: What run times solicit the most ratings on IMDb?"
   ]
  },
  {
   "cell_type": "code",
   "execution_count": 1,
   "metadata": {},
   "outputs": [],
   "source": [
    "import os\n",
    "import numpy as np\n",
    "import pandas as pd\n",
    "import matplotlib.pyplot as plt\n",
    "%matplotlib inline\n",
    "import seaborn as sns"
   ]
  },
  {
   "cell_type": "code",
   "execution_count": 2,
   "metadata": {},
   "outputs": [],
   "source": [
    "data_path = '/home/schart/Flatiron/DataScience/Phase1/Project/Movie_Analysis/data/cleaned'\n",
    "def get_data(data_path, file_name):\n",
    "    file_path = os.path.join(data_path, file_name)\n",
    "    if file_name.endswith('.csv'):\n",
    "        df = pd.read_csv(file_path)\n",
    "    elif file_name.endswith('.tsv'):\n",
    "        df = pd.read_csv(file_path, sep='\\t')\n",
    "    return df"
   ]
  },
  {
   "cell_type": "code",
   "execution_count": 4,
   "metadata": {},
   "outputs": [],
   "source": [
    "title_basics_ratings_df = get_data(data_path, 'imdb.title.basic_join_ratings.csv')"
   ]
  },
  {
   "cell_type": "code",
   "execution_count": 29,
   "metadata": {},
   "outputs": [],
   "source": [
    "votes_by_runtime = pd.DataFrame()\n",
    "votes_by_runtime['numvotes'] = title_basics_ratings_df['numvotes']\n",
    "votes_by_runtime['binned_runtime'] = title_basics_ratings_df['runtime_minutes'].apply( lambda x: int(np.ceil(x/20)*20))\n",
    "votes_by_runtime = votes_by_runtime.groupby('binned_runtime').agg('median').reset_index()"
   ]
  },
  {
   "cell_type": "code",
   "execution_count": 30,
   "metadata": {},
   "outputs": [
    {
     "data": {
      "text/plain": [
       "<AxesSubplot:xlabel='binned_runtime', ylabel='numvotes'>"
      ]
     },
     "execution_count": 30,
     "metadata": {},
     "output_type": "execute_result"
    },
    {
     "data": {
      "image/png": "[encoded data removed]",
      "text/plain": [
       "<Figure size 432x288 with 1 Axes>"
      ]
     },
     "metadata": {
      "needs_background": "light"
     },
     "output_type": "display_data"
    }
   ],
   "source": [
    "sns.barplot(x='binned_runtime' , y='numvotes' , data=votes_by_runtime)"
   ]
  },
  {
   "cell_type": "code",
   "execution_count": null,
   "metadata": {},
   "outputs": [],
   "source": []
  }
 ],
 "metadata": {
  "kernelspec": {
   "display_name": "flatiron",
   "language": "python",
   "name": "flatiron"
  },
  "language_info": {
   "codemirror_mode": {
    "name": "ipython",
    "version": 3
   },
   "file_extension": ".py",
   "mimetype": "text/x-python",
   "name": "python",
   "nbconvert_exporter": "python",
   "pygments_lexer": "ipython3",
   "version": "3.6.9"
  }
 },
 "nbformat": 4,
 "nbformat_minor": 4
}
