{
 "cells": [
  {
   "cell_type": "markdown",
   "metadata": {},
   "source": [
    "# Question: What run times solicit the most ratings on IMDb?\n",
    "We would like to know what run times yield the most imdb ratings. Here we think of the number of IMDb votes as proxy for popularity. "
   ]
  },
  {
   "cell_type": "markdown",
   "metadata": {},
   "source": [
    "## Loading Data\n",
    "Below we import our database and print the column names for the `ratings` and `runtimes` tables. We will join these tables to form our data set. "
   ]
  },
  {
   "cell_type": "code",
   "execution_count": 1,
   "metadata": {},
   "outputs": [],
   "source": [
    "from moviesdb import moviesdb as mdb\n",
    "import numpy as np\n",
    "import pandas as pd\n",
    "import matplotlib.pyplot as plt\n",
    "import seaborn as sns\n",
    "%matplotlib inline"
   ]
  },
  {
   "cell_type": "code",
   "execution_count": 2,
   "metadata": {},
   "outputs": [],
   "source": [
    "db = mdb.MoviesDb()"
   ]
  },
  {
   "cell_type": "code",
   "execution_count": 3,
   "metadata": {},
   "outputs": [
    {
     "name": "stdout",
     "output_type": "stream",
     "text": [
      "=== runtimes ===\n",
      "tconst\n",
      "runtime_minutes\n",
      "\n",
      "=== ratings ===\n",
      "tconst\n",
      "averagerating\n",
      "numvotes\n"
     ]
    }
   ],
   "source": [
    "print('=== runtimes ===')\n",
    "for column in db.list_column_names('runtimes'):\n",
    "    print(column)\n",
    "\n",
    "print('')\n",
    "print('=== ratings ===')\n",
    "for column in db.list_column_names('ratings'):\n",
    "    print(column)"
   ]
  },
  {
   "cell_type": "markdown",
   "metadata": {},
   "source": [
    "We can join the `runtimes` and `ratings` tables on the `tconst` variable. this will produce a dataset with all films for which we have both rating and runtime data. "
   ]
  },
  {
   "cell_type": "code",
   "execution_count": 7,
   "metadata": {},
   "outputs": [],
   "source": [
    "query = \"\"\"\n",
    "SELECT ru.runtime_minutes, sum(ra.numvotes) AS numvotes\n",
    "FROM runtimes as ru\n",
    "INNER JOIN ratings AS ra\n",
    "USING('tconst')\n",
    "GROUP BY ru.runtime_minutes\n",
    "\"\"\"\n",
    "df = db.load_query_as_df(query)"
   ]
  },
  {
   "cell_type": "markdown",
   "metadata": {},
   "source": [
    "# Question specific data cleaning\n",
    "There are a few films with extremely long run times, we focus our analysis on films with run times shorter than four hours. We also    "
   ]
  },
  {
   "cell_type": "code",
   "execution_count": 8,
   "metadata": {},
   "outputs": [],
   "source": [
    "df = df.query('runtime_minutes <= 240')"
   ]
  },
  {
   "cell_type": "code",
   "execution_count": 9,
   "metadata": {},
   "outputs": [
    {
     "data": {
      "text/plain": [
       "<AxesSubplot:xlabel='runtime_minutes', ylabel='numvotes'>"
      ]
     },
     "execution_count": 9,
     "metadata": {},
     "output_type": "execute_result"
    },
    {
     "data": {
      "image/png": "[encoded data removed]",
      "text/plain": [
       "<Figure size 432x288 with 1 Axes>"
      ]
     },
     "metadata": {
      "needs_background": "light"
     },
     "output_type": "display_data"
    }
   ],
   "source": [
    "sns.lineplot(x='runtime_minutes', y='numvotes', data=df)"
   ]
  },
  {
   "cell_type": "code",
   "execution_count": null,
   "metadata": {},
   "outputs": [],
   "source": []
  }
 ],
 "metadata": {
  "kernelspec": {
   "display_name": "flatiron",
   "language": "python",
   "name": "flatiron"
  },
  "language_info": {
   "codemirror_mode": {
    "name": "ipython",
    "version": 3
   },
   "file_extension": ".py",
   "mimetype": "text/x-python",
   "name": "python",
   "nbconvert_exporter": "python",
   "pygments_lexer": "ipython3",
   "version": "3.6.9"
  }
 },
 "nbformat": 4,
 "nbformat_minor": 4
}
