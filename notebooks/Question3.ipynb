{
 "cells": [
  {
   "cell_type": "markdown",
   "metadata": {},
   "source": [
    "# Are there any genres that perform better in foreign markets?"
   ]
  },
  {
   "cell_type": "code",
   "execution_count": 1,
   "metadata": {},
   "outputs": [],
   "source": [
    "from moviesdb import moviesdb as mdb\n",
    "import seaborn as sns\n",
    "import pandas as pd\n",
    "import matplotlib.pyplot as plt"
   ]
  },
  {
   "cell_type": "markdown",
   "metadata": {},
   "source": [
    "## Loading the data\n",
    "Below we load the database and print a list of tables."
   ]
  },
  {
   "cell_type": "code",
   "execution_count": 2,
   "metadata": {},
   "outputs": [
    {
     "name": "stdout",
     "output_type": "stream",
     "text": [
      "titles\n",
      "runtimes\n",
      "genres\n",
      "ratings\n",
      "budgets\n",
      "names\n",
      "principals\n"
     ]
    }
   ],
   "source": [
    "db = mdb.MoviesDb()\n",
    "for table in db.list_tables():\n",
    "    print(table)"
   ]
  },
  {
   "cell_type": "markdown",
   "metadata": {},
   "source": [
    "We will be primarily concerned with data in the `budgets` table and the `genres` table. Below we print a list of columns for each table."
   ]
  },
  {
   "cell_type": "code",
   "execution_count": 3,
   "metadata": {},
   "outputs": [
    {
     "name": "stdout",
     "output_type": "stream",
     "text": [
      "=== budgets ===\n",
      "id\n",
      "primary_title\n",
      "start_year\n",
      "release_date\n",
      "production_budget\n",
      "domestic_gross\n",
      "worldwide_gross\n",
      "\n",
      "=== genres ===\n",
      "tconst\n",
      "Action\n",
      "Adult\n",
      "Adventure\n",
      "Animation\n",
      "Biography\n",
      "Comedy\n",
      "Crime\n",
      "Documentary\n",
      "Drama\n",
      "Family\n",
      "Fantasy\n",
      "Game_Show\n",
      "History\n",
      "Horror\n",
      "Music\n",
      "Musical\n",
      "Mystery\n",
      "News\n",
      "Reality_TV\n",
      "Romance\n",
      "Sci_Fi\n",
      "Short\n",
      "Sport\n",
      "Talk_Show\n",
      "Thriller\n",
      "War\n",
      "Western\n"
     ]
    }
   ],
   "source": [
    "print(f'=== budgets ===')\n",
    "for column in db.list_column_names('budgets'):\n",
    "    print(column)\n",
    "print('')\n",
    "print(f'=== genres ===')\n",
    "for column in db.list_column_names('genres'):\n",
    "    print(column)"
   ]
  },
  {
   "cell_type": "markdown",
   "metadata": {},
   "source": [
    "We note that `worldwide gross` column includes the gross income from the `domestic_gross` column. Below we will compute what proportion of `worldwide_gross` comes from `domestic_gross`. This has the added benefit of producing a unit-less measure that is insensitive to inflation. \n",
    "\n",
    "In order to properly join the `budgets` table with the `genres` table, we will need to join on the `titles` table which contains all of the variables `tconst`, `primary_title`, and `start_year`. We execute the necessary query and load it as a data frame below."
   ]
  },
  {
   "cell_type": "code",
   "execution_count": 4,
   "metadata": {},
   "outputs": [],
   "source": [
    "query = \"\"\"\n",
    "SELECT b.primary_title, b.start_year, b.production_budget, b.domestic_gross, b.worldwide_gross, g.*\n",
    "FROM budgets AS b\n",
    "JOIN titles as t \n",
    "USING(primary_title, start_year)\n",
    "JOIN genres AS g\n",
    "USING(tconst);\n",
    "\"\"\"\n",
    "df = db.load_query_as_df(query)"
   ]
  },
  {
   "cell_type": "markdown",
   "metadata": {},
   "source": [
    "Because we have joined starting with the `budgets` table, we will only return films where budget data is available. "
   ]
  },
  {
   "cell_type": "markdown",
   "metadata": {},
   "source": [
    "## Question specific data cleaning\n",
    "We note that if `worldwide_gross` is zero, then the proportion that we wish to inspect will be undefined. For this reason, we drop rows where `worldwide_gross` is zero. "
   ]
  },
  {
   "cell_type": "code",
   "execution_count": 5,
   "metadata": {},
   "outputs": [],
   "source": [
    "df = df[df['worldwide_gross'] > 0]"
   ]
  },
  {
   "cell_type": "markdown",
   "metadata": {},
   "source": [
    "Additionally, we are not interested in genres that are not represented in the data. We drop columns with all false values below."
   ]
  },
  {
   "cell_type": "code",
   "execution_count": 6,
   "metadata": {},
   "outputs": [],
   "source": [
    "df = df.loc[:,df.any(axis = 0)]"
   ]
  },
  {
   "cell_type": "markdown",
   "metadata": {},
   "source": [
    "## Computations"
   ]
  },
  {
   "cell_type": "markdown",
   "metadata": {},
   "source": [
    "Next we compute the proportion of `worldwide_gross` that comes from `domestic_gross`. We name this variable `domestic_proportion`."
   ]
  },
  {
   "cell_type": "code",
   "execution_count": 7,
   "metadata": {},
   "outputs": [],
   "source": [
    "df['domestic_proportion'] = df['domestic_gross'] / df['worldwide_gross']"
   ]
  },
  {
   "cell_type": "markdown",
   "metadata": {},
   "source": [
    "We note that genres are not mutually exclusive. We will compute the mean `domestic_proportion` for each genre realizing that films with multiple genres will contribute to multiple means. To start the computation, we need a list of genres that are represented in our data. "
   ]
  },
  {
   "cell_type": "code",
   "execution_count": 8,
   "metadata": {},
   "outputs": [],
   "source": [
    "full_genre_list = db.list_column_names('genres')[1:]\n",
    "genre_list = list(set(df.columns).intersection(set(full_genre_list)))"
   ]
  },
  {
   "cell_type": "code",
   "execution_count": 9,
   "metadata": {},
   "outputs": [],
   "source": [
    "mean_proportions_list = []\n",
    "for genre in genre_list:\n",
    "    df_genre = df.query(f'{genre} == 1')\n",
    "    proportion_dict = {\n",
    "        'genre': genre,\n",
    "        'mean_proportion': df_genre['domestic_proportion'].mean()\n",
    "    }\n",
    "    mean_proportions_list.append(proportion_dict)\n",
    "    \n",
    "df_proportions = pd.DataFrame.from_dict(mean_proportions_list).sort_values(by='mean_proportion') "
   ]
  },
  {
   "cell_type": "markdown",
   "metadata": {},
   "source": [
    "# Make visualization"
   ]
  },
  {
   "cell_type": "code",
   "execution_count": 10,
   "metadata": {},
   "outputs": [
    {
     "data": {
      "text/plain": [
       "[Text(0.5, 0, 'Domestic Proportion'),\n",
       " Text(0, 0.5, 'Genre'),\n",
       " Text(0.5, 1.0, 'Domestic as Proportion of Worldwide Gross Revenue by Genre')]"
      ]
     },
     "execution_count": 10,
     "metadata": {},
     "output_type": "execute_result"
    },
    {
     "data": {
      "image/png": "[encoded data removed]",
      "text/plain": [
       "<Figure size 864x576 with 1 Axes>"
      ]
     },
     "metadata": {
      "needs_background": "light"
     },
     "output_type": "display_data"
    }
   ],
   "source": [
    "fig = plt.figure(figsize=(12,8))\n",
    "sns.set_context('talk')\n",
    "sns.set_style('darkgrid')\n",
    "ax = sns.barplot(y='genre', x='mean_proportion', data=df_proportions, orient=\"h\")\n",
    "ax.set(xlabel = 'Domestic Proportion', \n",
    "       ylabel = 'Genre',\n",
    "       title = 'Domestic as Proportion of Worldwide Gross Revenue by Genre'\n",
    "      )"
   ]
  },
  {
   "cell_type": "code",
   "execution_count": 17,
   "metadata": {},
   "outputs": [],
   "source": [
    "fig.savefig('../images/domestic_proportion.png', bbox_inches='tight')"
   ]
  },
  {
   "cell_type": "code",
   "execution_count": null,
   "metadata": {},
   "outputs": [],
   "source": []
  }
 ],
 "metadata": {
  "kernelspec": {
   "display_name": "flatiron",
   "language": "python",
   "name": "flatiron"
  },
  "language_info": {
   "codemirror_mode": {
    "name": "ipython",
    "version": 3
   },
   "file_extension": ".py",
   "mimetype": "text/x-python",
   "name": "python",
   "nbconvert_exporter": "python",
   "pygments_lexer": "ipython3",
   "version": "3.6.9"
  }
 },
 "nbformat": 4,
 "nbformat_minor": 4
}
