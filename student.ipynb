{
 "cells": [
  {
   "cell_type": "markdown",
   "metadata": {},
   "source": [
    "## Final Project Submission\n",
    "\n",
    "Please fill out:\n",
    "* Student name: Seth Chart\n",
    "* Student pace: full time\n",
    "* Scheduled project review date/time: Thursday, September 17 10:30 - 11:00 am ET \n",
    "* Instructor name: Rafael Carrasco\n",
    "* Blog post URL: TBD\n"
   ]
  },
  {
   "cell_type": "markdown",
   "metadata": {},
   "source": [
    "## Data cleaning\n",
    "Data was provided in the form of gzipped csv and tsv files which are located in the <a href='./zippedData'>zippedData</a> folder. We processed data from the following files:\n",
    "* `imdb.title.basics.csv.gz`\n",
    "* `imdb.title.ratings.csv.gz`\n",
    "* `tn.movie_budgets.csv.gz`\n",
    "* `imdb.name.basics.csv.gz`\n",
    "* `imdb.title.principals.csv.gz`\n",
    "\n",
    "I wrote a library called `moviesdb` located <a href = './notebooks/moviesdb/moviesdb.py'>here</a> which provides classes  with methods to load data from the files above into a sqlite database. The library also provides a helper class called `MoviesDb` which provides methods for interacting with the database. \n",
    "\n",
    "If the database is not already present, the script <a href='./notebooks/makeMoviesDb.py'>makeMoviesDb.py</a> will build the database from the provided files.\n",
    "\n",
    "### Data transformations\n",
    "While most of the data was formatted appropriately, there were a few variables that required special attention. We highlight these variables below organized by input file.\n",
    "\n",
    "#### `imdb.title.basics.csv.gz`\n",
    "* To ensure that the `start_year` and `runtime_minutes` variables were read into the database as integers we explicitly converted them to integers.\n",
    "* We converted the `genres` variable to distinct indicator variables for each genre. This was achieved by setting a default values of `0` in the genre indicator variables housed in the `genres` database table and writing `1` to each indicator variable that matched with the input `genres` string. This is implemented by the method `_TitleBasicsParser.get_row_dict_genre`.\n",
    "\n",
    "#### `imdb.title.ratings.csv.gz`\n",
    "* To ensure the appropriate data type we explicitly convert the `averagerating` variable to a float and convert the `numvotes` variable to an integer. \n",
    "\n",
    "####  `tn.movie_budgets.csv.gz`\n",
    "* In order to provide a viable foreign key to join with IMDb tables, we converted `release_date` to an integer year and stored it as `start_year`. With `start_year` included in the `budgets` table we can safely join with the `titles` table on `(primary_title, start_year)` to access the IMDb primary key 'tconst' which then provides safe joining with all other IMDb data.\n",
    "* All of the variables `production_budget`, `domestic_gross`, and `worldwid_gross` needed to have `$` and commas stripped and to be convered to integers.\n",
    "\n",
    "#### `title.principals.csv.gz`\n",
    "* The `ordering` variable was explicitly converted to an integer to ensure that the correct data type was stored."
   ]
  },
  {
   "cell_type": "markdown",
   "metadata": {},
   "source": [
    "## Questions answered\n",
    "The questions below are answered in separate notebooks.\n",
    "\n",
    "### Question 1: What was the most common runtime?\n",
    "Question notebook is located <a href='./notebooks/Question1.ipynb'>Here</a>\n",
    "\n",
    "### Question 2: Which runtime produced the most ratings on IMDb?\n",
    "Question notebook is located <a href='./notebooks/Question2.ipynb'>Here</a>\n",
    "\n",
    "### Question 3: Which runtime produced the highest IMDb ratings?\n",
    "Question notebook is located <a href='./notebooks/Question3.ipynb'>Here</a>\n",
    "\n",
    "### Question 4: Which runtime produced the highest revenue?\n",
    "Question notebook is located <a href='./notebooks/Question4.ipynb'>Here</a>"
   ]
  },
  {
   "cell_type": "code",
   "execution_count": null,
   "metadata": {},
   "outputs": [],
   "source": []
  }
 ],
 "metadata": {
  "kernelspec": {
   "display_name": "Python 3",
   "language": "python",
   "name": "python3"
  },
  "language_info": {
   "codemirror_mode": {
    "name": "ipython",
    "version": 3
   },
   "file_extension": ".py",
   "mimetype": "text/x-python",
   "name": "python",
   "nbconvert_exporter": "python",
   "pygments_lexer": "ipython3",
   "version": "3.6.9"
  }
 },
 "nbformat": 4,
 "nbformat_minor": 2
}
