{
 "cells": [
  {
   "cell_type": "markdown",
   "metadata": {},
   "source": [
    "# Data Cleaning\n",
    "In this notebook, we inspect the provided data files to identify data cleaning needs and execute all data cleaning tasks. Cleaned data is then exported to the data_cleaned folder for consumption by the analysis notebooks."
   ]
  },
  {
   "cell_type": "markdown",
   "metadata": {},
   "source": [
    "## Initial setup"
   ]
  },
  {
   "cell_type": "markdown",
   "metadata": {},
   "source": [
    "### Importing libraries"
   ]
  },
  {
   "cell_type": "code",
   "execution_count": 11,
   "metadata": {},
   "outputs": [],
   "source": [
    "import pandas as pd"
   ]
  },
  {
   "cell_type": "markdown",
   "metadata": {},
   "source": [
    "### Data inspection function\n",
    "Below we define the function `inspect_dataframe`, which provides a summary of the data contained in the input data frame."
   ]
  },
  {
   "cell_type": "code",
   "execution_count": 12,
   "metadata": {},
   "outputs": [],
   "source": [
    "def inspect_dataframe(df):\n",
    "    print(f\"There are {len(df)} rows in this data frame.\\n\")\n",
    "    print('Column Names and Types:\\n')\n",
    "    print(df.dtypes,'\\n')\n",
    "    print('The table below shows the number of missing values in each column:\\n')\n",
    "    print(df.isna().sum(),'\\n')\n",
    "    for columnName in df.columns:\n",
    "        if df[columnName].dtype in (object, str):\n",
    "            print(f\"There are {len(df[columnName].unique())} unique values in {columnName}. The first five are listed below:\\n\")\n",
    "            for value in df[columnName].unique()[:5]:\n",
    "                print(value,)\n",
    "            print('\\n')\n",
    "        elif df[columnName].dtype in (int, float):\n",
    "            column_min = df[columnName].min()\n",
    "            column_max = df[columnName].max()\n",
    "            print(f\"The column {columnName} ranges between a minimum value of {column_min} and a maximum value of {column_max}.\\n\")"
   ]
  },
  {
   "cell_type": "markdown",
   "metadata": {},
   "source": [
    "## The `imdb.title.basics.csv` data source"
   ]
  },
  {
   "cell_type": "markdown",
   "metadata": {},
   "source": [
    "### Loading `imdb.title.basics.csv`"
   ]
  },
  {
   "cell_type": "code",
   "execution_count": 13,
   "metadata": {},
   "outputs": [],
   "source": [
    "title_basics_df = pd.read_csv('data/imdb.title.basics.csv')"
   ]
  },
  {
   "cell_type": "markdown",
   "metadata": {},
   "source": [
    "### Inspecting `imdb.title.basics.csv`\n",
    "From the summary below we note the following initial impressions:\n",
    " * The variable `tconst` appears to be a primary key.\n",
    " * The variable `primary_title` is the expected title of the movie formated as a string.\n",
    " * The variable `original_title` seems like it might encode the name of the original release of a movie that has been re-released. This may be most useful when the original title is in the original language of the movie.\n",
    " * The variable `start_year` ranges from 2010 to 2115, indicating that this column most likely needs to inspected more closely to identify malformed data.\n",
    " * The variable `runtime_minutes` ranges from 1 to 51420, indicating that this column most likely needs to inspected more closely to identify malformed data.\n",
    " * The variable `genres` contains a comma separated list of applicable genres. We should is identify a list of unique genres and re-encode these lists as distinct indicator variables. "
   ]
  },
  {
   "cell_type": "code",
   "execution_count": 14,
   "metadata": {},
   "outputs": [
    {
     "name": "stdout",
     "output_type": "stream",
     "text": [
      "There are 146144 rows in this data frame.\n",
      "\n",
      "Column Names and Types:\n",
      "\n",
      "tconst              object\n",
      "primary_title       object\n",
      "original_title      object\n",
      "start_year           int64\n",
      "runtime_minutes    float64\n",
      "genres              object\n",
      "dtype: object \n",
      "\n",
      "The table below shows the number of missing values in each column:\n",
      "\n",
      "tconst                 0\n",
      "primary_title          0\n",
      "original_title        21\n",
      "start_year             0\n",
      "runtime_minutes    31739\n",
      "genres              5408\n",
      "dtype: int64 \n",
      "\n",
      "There are 146144 unique values in tconst. The first five are listed below:\n",
      "\n",
      "tt0063540\n",
      "tt0066787\n",
      "tt0069049\n",
      "tt0069204\n",
      "tt0100275\n",
      "\n",
      "\n",
      "There are 136071 unique values in primary_title. The first five are listed below:\n",
      "\n",
      "Sunghursh\n",
      "One Day Before the Rainy Season\n",
      "The Other Side of the Wind\n",
      "Sabse Bada Sukh\n",
      "The Wandering Soap Opera\n",
      "\n",
      "\n",
      "There are 137774 unique values in original_title. The first five are listed below:\n",
      "\n",
      "Sunghursh\n",
      "Ashad Ka Ek Din\n",
      "The Other Side of the Wind\n",
      "Sabse Bada Sukh\n",
      "La Telenovela Errante\n",
      "\n",
      "\n",
      "The column start_year ranges between a minimum value of 2010 and a maximum value of 2115.\n",
      "\n",
      "The column runtime_minutes ranges between a minimum value of 1.0 and a maximum value of 51420.0.\n",
      "\n",
      "There are 1086 unique values in genres. The first five are listed below:\n",
      "\n",
      "Action,Crime,Drama\n",
      "Biography,Drama\n",
      "Drama\n",
      "Comedy,Drama\n",
      "Comedy,Drama,Fantasy\n",
      "\n",
      "\n"
     ]
    }
   ],
   "source": [
    "inspect_dataframe(title_basics_df)"
   ]
  },
  {
   "cell_type": "markdown",
   "metadata": {},
   "source": [
    "### Cleaning `imdb.title.basic.csv`"
   ]
  },
  {
   "cell_type": "markdown",
   "metadata": {},
   "source": [
    "#### Dropping movies with `start_year` in the future\n",
    "Below we drop rows with movies that have a `start_year` after 2019. This ensures that our analysis covers full years and avoids incorporating data from unreleased movies. "
   ]
  },
  {
   "cell_type": "code",
   "execution_count": 24,
   "metadata": {},
   "outputs": [],
   "source": [
    "title_basics_df = title_basics_df[title_basics_df['start_year']>2019]"
   ]
  },
  {
   "cell_type": "markdown",
   "metadata": {},
   "source": [
    "#### Dropping movies with extreme run times"
   ]
  },
  {
   "cell_type": "code",
   "execution_count": 28,
   "metadata": {},
   "outputs": [
    {
     "data": {
      "text/html": [
       "<div>\n",
       "<style scoped>\n",
       "    .dataframe tbody tr th:only-of-type {\n",
       "        vertical-align: middle;\n",
       "    }\n",
       "\n",
       "    .dataframe tbody tr th {\n",
       "        vertical-align: top;\n",
       "    }\n",
       "\n",
       "    .dataframe thead th {\n",
       "        text-align: right;\n",
       "    }\n",
       "</style>\n",
       "<table border=\"1\" class=\"dataframe\">\n",
       "  <thead>\n",
       "    <tr style=\"text-align: right;\">\n",
       "      <th></th>\n",
       "      <th>tconst</th>\n",
       "      <th>primary_title</th>\n",
       "      <th>original_title</th>\n",
       "      <th>start_year</th>\n",
       "      <th>runtime_minutes</th>\n",
       "      <th>genres</th>\n",
       "    </tr>\n",
       "  </thead>\n",
       "  <tbody>\n",
       "    <tr>\n",
       "      <th>3669</th>\n",
       "      <td>tt10356650</td>\n",
       "      <td>Dream: The Life of Two Tales</td>\n",
       "      <td>Dream: The Life of Two Tales</td>\n",
       "      <td>2020</td>\n",
       "      <td>128.0</td>\n",
       "      <td>Action,Comedy,Drama</td>\n",
       "    </tr>\n",
       "    <tr>\n",
       "      <th>81669</th>\n",
       "      <td>tt4695264</td>\n",
       "      <td>Lawrence: After Arabia</td>\n",
       "      <td>Lawrence: After Arabia</td>\n",
       "      <td>2020</td>\n",
       "      <td>126.0</td>\n",
       "      <td>Drama</td>\n",
       "    </tr>\n",
       "    <tr>\n",
       "      <th>127678</th>\n",
       "      <td>tt7830722</td>\n",
       "      <td>Rashna:The Ray of Light</td>\n",
       "      <td>Rashna:The Ray of Light</td>\n",
       "      <td>2020</td>\n",
       "      <td>150.0</td>\n",
       "      <td>Mystery,Thriller</td>\n",
       "    </tr>\n",
       "    <tr>\n",
       "      <th>136826</th>\n",
       "      <td>tt8741304</td>\n",
       "      <td>Variance</td>\n",
       "      <td>Variance</td>\n",
       "      <td>2020</td>\n",
       "      <td>134.0</td>\n",
       "      <td>Drama</td>\n",
       "    </tr>\n",
       "  </tbody>\n",
       "</table>\n",
       "</div>"
      ],
      "text/plain": [
       "            tconst                 primary_title  \\\n",
       "3669    tt10356650  Dream: The Life of Two Tales   \n",
       "81669    tt4695264        Lawrence: After Arabia   \n",
       "127678   tt7830722       Rashna:The Ray of Light   \n",
       "136826   tt8741304                      Variance   \n",
       "\n",
       "                      original_title  start_year  runtime_minutes  \\\n",
       "3669    Dream: The Life of Two Tales        2020            128.0   \n",
       "81669         Lawrence: After Arabia        2020            126.0   \n",
       "127678       Rashna:The Ray of Light        2020            150.0   \n",
       "136826                      Variance        2020            134.0   \n",
       "\n",
       "                     genres  \n",
       "3669    Action,Comedy,Drama  \n",
       "81669                 Drama  \n",
       "127678     Mystery,Thriller  \n",
       "136826                Drama  "
      ]
     },
     "execution_count": 28,
     "metadata": {},
     "output_type": "execute_result"
    }
   ],
   "source": [
    "title_basics_df[title_basics_df['runtime_minutes']> 120]"
   ]
  },
  {
   "cell_type": "markdown",
   "metadata": {},
   "source": [
    "## The `imdb.title.ratings.csv` data source"
   ]
  },
  {
   "cell_type": "markdown",
   "metadata": {},
   "source": [
    "### Loading the `imdb.title.ratings.csv` data source"
   ]
  },
  {
   "cell_type": "code",
   "execution_count": 15,
   "metadata": {},
   "outputs": [],
   "source": [
    "title_ratings_df = pd.read_csv('data/imdb.title.ratings.csv')"
   ]
  },
  {
   "cell_type": "markdown",
   "metadata": {},
   "source": [
    "### Inspecting `imdb.title.ratings.csv`\n",
    "This file seems to contain ratings information for the films listed in `imdb.title.basic.csv` data source. All of the variables seem to be properly formatted and there are no missing values. This source requires no further action. "
   ]
  },
  {
   "cell_type": "code",
   "execution_count": 16,
   "metadata": {},
   "outputs": [
    {
     "name": "stdout",
     "output_type": "stream",
     "text": [
      "There are 73856 rows in this data frame.\n",
      "\n",
      "Column Names and Types:\n",
      "\n",
      "tconst            object\n",
      "averagerating    float64\n",
      "numvotes           int64\n",
      "dtype: object \n",
      "\n",
      "The table below shows the number of missing values in each column:\n",
      "\n",
      "tconst           0\n",
      "averagerating    0\n",
      "numvotes         0\n",
      "dtype: int64 \n",
      "\n",
      "There are 73856 unique values in tconst. The first five are listed below:\n",
      "\n",
      "tt10356526\n",
      "tt10384606\n",
      "tt1042974\n",
      "tt1043726\n",
      "tt1060240\n",
      "\n",
      "\n",
      "The column averagerating ranges between a minimum value of 1.0 and a maximum value of 10.0.\n",
      "\n",
      "The column numvotes ranges between a minimum value of 5 and a maximum value of 1841066.\n",
      "\n"
     ]
    }
   ],
   "source": [
    "inspect_dataframe(title_ratings_df)"
   ]
  },
  {
   "cell_type": "markdown",
   "metadata": {},
   "source": [
    "## The `bom.movie_gross.csv` data source"
   ]
  },
  {
   "cell_type": "markdown",
   "metadata": {},
   "source": [
    "### Loading the `bom.movie_gross.csv` data source"
   ]
  },
  {
   "cell_type": "code",
   "execution_count": 17,
   "metadata": {},
   "outputs": [],
   "source": [
    "title_ratings_df = pd.read_csv('data/bom.movie_gross.csv')"
   ]
  },
  {
   "cell_type": "markdown",
   "metadata": {},
   "source": [
    "### Inspecting `bom.movie_gross.csv`\n",
    "From the summary below we note the following initial impressions:\n",
    " * The `title` variable seems to be properly formatted and is nearly unique. Further analysis should identify the one duplicate value and determine if the year separates the duplicate titles.\n",
    " * The `studio` variable is has very few missing values. It seems to be formatted as an abbreviation of the studio name. It would be nice to identify the full names of studios and map this variable to one that provides the full name.\n",
    " * The `domestic_gross` variable appears to be properly formatted with a small number of missing values. The maximum value is large but plausible. This variable should be inspected for outliers. It may be necessary to correct this variable for inflation.  \n",
    " * The `foreign_gross` variable seems to be improperly formatted as a string. This should be converted to a float after confirming that there is a uniform currency. \n",
    " * The `year` variable is properly formatted and has no missing values. \n",
    " \n",
    "Since this data source does not share a key with the imdb sources, it will be necessary to match titles, most likely on the combination of title and year.  "
   ]
  },
  {
   "cell_type": "code",
   "execution_count": 18,
   "metadata": {},
   "outputs": [
    {
     "name": "stdout",
     "output_type": "stream",
     "text": [
      "There are 3387 rows in this data frame.\n",
      "\n",
      "Column Names and Types:\n",
      "\n",
      "title              object\n",
      "studio             object\n",
      "domestic_gross    float64\n",
      "foreign_gross      object\n",
      "year                int64\n",
      "dtype: object \n",
      "\n",
      "The table below shows the number of missing values in each column:\n",
      "\n",
      "title                0\n",
      "studio               5\n",
      "domestic_gross      28\n",
      "foreign_gross     1350\n",
      "year                 0\n",
      "dtype: int64 \n",
      "\n",
      "There are 3386 unique values in title. The first five are listed below:\n",
      "\n",
      "Toy Story 3\n",
      "Alice in Wonderland (2010)\n",
      "Harry Potter and the Deathly Hallows Part 1\n",
      "Inception\n",
      "Shrek Forever After\n",
      "\n",
      "\n",
      "There are 258 unique values in studio. The first five are listed below:\n",
      "\n",
      "BV\n",
      "WB\n",
      "P/DW\n",
      "Sum.\n",
      "Par.\n",
      "\n",
      "\n",
      "The column domestic_gross ranges between a minimum value of 100.0 and a maximum value of 936700000.0.\n",
      "\n",
      "There are 1205 unique values in foreign_gross. The first five are listed below:\n",
      "\n",
      "652000000\n",
      "691300000\n",
      "664300000\n",
      "535700000\n",
      "513900000\n",
      "\n",
      "\n",
      "The column year ranges between a minimum value of 2010 and a maximum value of 2018.\n",
      "\n"
     ]
    }
   ],
   "source": [
    "inspect_dataframe(title_ratings_df)"
   ]
  },
  {
   "cell_type": "code",
   "execution_count": null,
   "metadata": {},
   "outputs": [],
   "source": []
  }
 ],
 "metadata": {
  "celltoolbar": "Raw Cell Format",
  "kernelspec": {
   "display_name": "flatiron",
   "language": "python",
   "name": "flatiron"
  },
  "language_info": {
   "codemirror_mode": {
    "name": "ipython",
    "version": 3
   },
   "file_extension": ".py",
   "mimetype": "text/x-python",
   "name": "python",
   "nbconvert_exporter": "python",
   "pygments_lexer": "ipython3",
   "version": "3.6.9"
  }
 },
 "nbformat": 4,
 "nbformat_minor": 4
}
